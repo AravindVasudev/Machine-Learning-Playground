{
 "cells": [
  {
   "cell_type": "code",
   "execution_count": null,
   "metadata": {
    "_cell_guid": "cf66182d-03da-4a51-8710-b4a07ea3acca",
    "_uuid": "37b4b16ed5ec3b8ddf5a2545de02c17c3ee04dff"
   },
   "outputs": [],
   "source": [
    "library(tidyverse)"
   ]
  },
  {
   "cell_type": "code",
   "execution_count": null,
   "metadata": {
    "_cell_guid": "41482ec9-80d4-4273-8cca-eb29aba7635f",
    "_uuid": "8b2a14d7ba4f97ddfa39eccf8878fb002659bec6"
   },
   "outputs": [],
   "source": [
    "# read the csv\n",
    "data <- read_csv('../input/scrubbed.csv')\n",
    "head(data)"
   ]
  },
  {
   "cell_type": "code",
   "execution_count": null,
   "metadata": {
    "_cell_guid": "394291e4-4169-4f7b-90f8-3e70d4d8406d",
    "_uuid": "a22821913fa4d2f98405e30ae8b59b656f40d455"
   },
   "outputs": [],
   "source": [
    "# summarize\n",
    "summary(data)"
   ]
  }
 ],
 "metadata": {
  "kernelspec": {
   "display_name": "R 3.3",
   "language": "R",
   "name": "ir33"
  },
  "language_info": {
   "codemirror_mode": "r",
   "file_extension": ".r",
   "mimetype": "text/x-r-source",
   "name": "R",
   "pygments_lexer": "r",
   "version": "3.4.3"
  }
 },
 "nbformat": 4,
 "nbformat_minor": 1
}
