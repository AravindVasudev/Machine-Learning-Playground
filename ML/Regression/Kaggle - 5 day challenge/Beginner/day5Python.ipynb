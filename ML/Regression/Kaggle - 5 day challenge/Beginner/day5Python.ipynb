{
  "cells": [
    {
      "metadata": {
        "_cell_guid": "76055bd3-1e8d-4029-ac80-715a4795d3aa",
        "_uuid": "69c5021bbbfd6053bcfe76d208e49deb0268a6cd",
        "trusted": true,
        "collapsed": true
      },
      "cell_type": "code",
      "source": "import pandas as pd\nimport seaborn as sns\nfrom scipy.stats import chisquare",
      "execution_count": null,
      "outputs": []
    },
    {
      "metadata": {
        "trusted": true,
        "_uuid": "0bea72c048cfacc0967e16c4536c9698d1e0d238"
      },
      "cell_type": "code",
      "source": "# read the dataset\ndata = pd.read_csv('../input/sets.csv')\n\ndata.head()",
      "execution_count": null,
      "outputs": []
    },
    {
      "metadata": {
        "trusted": true,
        "_uuid": "f287b2f2c3497cfe900c27efa6439b250b121ab3"
      },
      "cell_type": "code",
      "source": "# perform chi-square on names\nnames = data['name'].value_counts()\nprint(names)\nchisquare(names)",
      "execution_count": null,
      "outputs": []
    },
    {
      "metadata": {
        "trusted": true,
        "_uuid": "964c1526b9652bdb235051ea1bf9610381a3ee38"
      },
      "cell_type": "code",
      "source": "# visualize names\nsns.distplot(names)",
      "execution_count": null,
      "outputs": []
    }
  ],
  "metadata": {
    "language_info": {
      "name": "python",
      "version": "3.6.3",
      "mimetype": "text/x-python",
      "codemirror_mode": {
        "name": "ipython",
        "version": 3
      },
      "pygments_lexer": "ipython3",
      "nbconvert_exporter": "python",
      "file_extension": ".py"
    },
    "kernelspec": {
      "display_name": "Python 3",
      "language": "python",
      "name": "python3"
    }
  },
  "nbformat": 4,
  "nbformat_minor": 1
}