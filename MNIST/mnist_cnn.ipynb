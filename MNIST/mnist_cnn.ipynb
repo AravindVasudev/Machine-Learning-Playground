{
 "cells": [
  {
   "cell_type": "code",
   "execution_count": 1,
   "metadata": {},
   "outputs": [
    {
     "name": "stderr",
     "output_type": "stream",
     "text": [
      "Using TensorFlow backend.\n",
      "/usr/lib/python3.6/importlib/_bootstrap.py:219: RuntimeWarning: compiletime version 3.5 of module 'tensorflow.python.framework.fast_tensor_util' does not match runtime version 3.6\n",
      "  return f(*args, **kwds)\n"
     ]
    }
   ],
   "source": [
    "%matplotlib inline\n",
    "\n",
    "import numpy as np\n",
    "import pandas as pd\n",
    "import matplotlib.pyplot as plt\n",
    "\n",
    "from sklearn.model_selection import train_test_split\n",
    "\n",
    "from keras.models import Sequential\n",
    "from keras.layers import Dense, Flatten, Conv2D, MaxPooling2D\n",
    "from keras.preprocessing.image import ImageDataGenerator\n",
    "from keras.utils import np_utils"
   ]
  },
  {
   "cell_type": "code",
   "execution_count": 2,
   "metadata": {},
   "outputs": [
    {
     "data": {
      "text/html": [
       "<div>\n",
       "<style scoped>\n",
       "    .dataframe tbody tr th:only-of-type {\n",
       "        vertical-align: middle;\n",
       "    }\n",
       "\n",
       "    .dataframe tbody tr th {\n",
       "        vertical-align: top;\n",
       "    }\n",
       "\n",
       "    .dataframe thead th {\n",
       "        text-align: right;\n",
       "    }\n",
       "</style>\n",
       "<table border=\"1\" class=\"dataframe\">\n",
       "  <thead>\n",
       "    <tr style=\"text-align: right;\">\n",
       "      <th></th>\n",
       "      <th>label</th>\n",
       "      <th>pixel0</th>\n",
       "      <th>pixel1</th>\n",
       "      <th>pixel2</th>\n",
       "      <th>pixel3</th>\n",
       "      <th>pixel4</th>\n",
       "      <th>pixel5</th>\n",
       "      <th>pixel6</th>\n",
       "      <th>pixel7</th>\n",
       "      <th>pixel8</th>\n",
       "      <th>...</th>\n",
       "      <th>pixel774</th>\n",
       "      <th>pixel775</th>\n",
       "      <th>pixel776</th>\n",
       "      <th>pixel777</th>\n",
       "      <th>pixel778</th>\n",
       "      <th>pixel779</th>\n",
       "      <th>pixel780</th>\n",
       "      <th>pixel781</th>\n",
       "      <th>pixel782</th>\n",
       "      <th>pixel783</th>\n",
       "    </tr>\n",
       "  </thead>\n",
       "  <tbody>\n",
       "    <tr>\n",
       "      <th>0</th>\n",
       "      <td>1</td>\n",
       "      <td>0</td>\n",
       "      <td>0</td>\n",
       "      <td>0</td>\n",
       "      <td>0</td>\n",
       "      <td>0</td>\n",
       "      <td>0</td>\n",
       "      <td>0</td>\n",
       "      <td>0</td>\n",
       "      <td>0</td>\n",
       "      <td>...</td>\n",
       "      <td>0</td>\n",
       "      <td>0</td>\n",
       "      <td>0</td>\n",
       "      <td>0</td>\n",
       "      <td>0</td>\n",
       "      <td>0</td>\n",
       "      <td>0</td>\n",
       "      <td>0</td>\n",
       "      <td>0</td>\n",
       "      <td>0</td>\n",
       "    </tr>\n",
       "    <tr>\n",
       "      <th>1</th>\n",
       "      <td>0</td>\n",
       "      <td>0</td>\n",
       "      <td>0</td>\n",
       "      <td>0</td>\n",
       "      <td>0</td>\n",
       "      <td>0</td>\n",
       "      <td>0</td>\n",
       "      <td>0</td>\n",
       "      <td>0</td>\n",
       "      <td>0</td>\n",
       "      <td>...</td>\n",
       "      <td>0</td>\n",
       "      <td>0</td>\n",
       "      <td>0</td>\n",
       "      <td>0</td>\n",
       "      <td>0</td>\n",
       "      <td>0</td>\n",
       "      <td>0</td>\n",
       "      <td>0</td>\n",
       "      <td>0</td>\n",
       "      <td>0</td>\n",
       "    </tr>\n",
       "    <tr>\n",
       "      <th>2</th>\n",
       "      <td>1</td>\n",
       "      <td>0</td>\n",
       "      <td>0</td>\n",
       "      <td>0</td>\n",
       "      <td>0</td>\n",
       "      <td>0</td>\n",
       "      <td>0</td>\n",
       "      <td>0</td>\n",
       "      <td>0</td>\n",
       "      <td>0</td>\n",
       "      <td>...</td>\n",
       "      <td>0</td>\n",
       "      <td>0</td>\n",
       "      <td>0</td>\n",
       "      <td>0</td>\n",
       "      <td>0</td>\n",
       "      <td>0</td>\n",
       "      <td>0</td>\n",
       "      <td>0</td>\n",
       "      <td>0</td>\n",
       "      <td>0</td>\n",
       "    </tr>\n",
       "    <tr>\n",
       "      <th>3</th>\n",
       "      <td>4</td>\n",
       "      <td>0</td>\n",
       "      <td>0</td>\n",
       "      <td>0</td>\n",
       "      <td>0</td>\n",
       "      <td>0</td>\n",
       "      <td>0</td>\n",
       "      <td>0</td>\n",
       "      <td>0</td>\n",
       "      <td>0</td>\n",
       "      <td>...</td>\n",
       "      <td>0</td>\n",
       "      <td>0</td>\n",
       "      <td>0</td>\n",
       "      <td>0</td>\n",
       "      <td>0</td>\n",
       "      <td>0</td>\n",
       "      <td>0</td>\n",
       "      <td>0</td>\n",
       "      <td>0</td>\n",
       "      <td>0</td>\n",
       "    </tr>\n",
       "    <tr>\n",
       "      <th>4</th>\n",
       "      <td>0</td>\n",
       "      <td>0</td>\n",
       "      <td>0</td>\n",
       "      <td>0</td>\n",
       "      <td>0</td>\n",
       "      <td>0</td>\n",
       "      <td>0</td>\n",
       "      <td>0</td>\n",
       "      <td>0</td>\n",
       "      <td>0</td>\n",
       "      <td>...</td>\n",
       "      <td>0</td>\n",
       "      <td>0</td>\n",
       "      <td>0</td>\n",
       "      <td>0</td>\n",
       "      <td>0</td>\n",
       "      <td>0</td>\n",
       "      <td>0</td>\n",
       "      <td>0</td>\n",
       "      <td>0</td>\n",
       "      <td>0</td>\n",
       "    </tr>\n",
       "  </tbody>\n",
       "</table>\n",
       "<p>5 rows × 785 columns</p>\n",
       "</div>"
      ],
      "text/plain": [
       "   label  pixel0  pixel1  pixel2  pixel3  pixel4  pixel5  pixel6  pixel7  \\\n",
       "0      1       0       0       0       0       0       0       0       0   \n",
       "1      0       0       0       0       0       0       0       0       0   \n",
       "2      1       0       0       0       0       0       0       0       0   \n",
       "3      4       0       0       0       0       0       0       0       0   \n",
       "4      0       0       0       0       0       0       0       0       0   \n",
       "\n",
       "   pixel8    ...     pixel774  pixel775  pixel776  pixel777  pixel778  \\\n",
       "0       0    ...            0         0         0         0         0   \n",
       "1       0    ...            0         0         0         0         0   \n",
       "2       0    ...            0         0         0         0         0   \n",
       "3       0    ...            0         0         0         0         0   \n",
       "4       0    ...            0         0         0         0         0   \n",
       "\n",
       "   pixel779  pixel780  pixel781  pixel782  pixel783  \n",
       "0         0         0         0         0         0  \n",
       "1         0         0         0         0         0  \n",
       "2         0         0         0         0         0  \n",
       "3         0         0         0         0         0  \n",
       "4         0         0         0         0         0  \n",
       "\n",
       "[5 rows x 785 columns]"
      ]
     },
     "execution_count": 2,
     "metadata": {},
     "output_type": "execute_result"
    }
   ],
   "source": [
    "# import dataset\n",
    "dataset = pd.read_csv('./data/train.csv')\n",
    "\n",
    "dataset.head()"
   ]
  },
  {
   "cell_type": "code",
   "execution_count": 3,
   "metadata": {},
   "outputs": [
    {
     "data": {
      "text/plain": [
       "(42000, 28, 28, 1)"
      ]
     },
     "execution_count": 3,
     "metadata": {},
     "output_type": "execute_result"
    }
   ],
   "source": [
    "# get features into X\n",
    "X = (dataset.iloc[:, 1:]).astype('float32')\n",
    "X = X.values.reshape(X.shape[0], 28, 28, 1)\n",
    "X.shape"
   ]
  },
  {
   "cell_type": "code",
   "execution_count": 4,
   "metadata": {},
   "outputs": [
    {
     "data": {
      "text/plain": [
       "(42000, 10)"
      ]
     },
     "execution_count": 4,
     "metadata": {},
     "output_type": "execute_result"
    }
   ],
   "source": [
    "# get labels into y\n",
    "y = (dataset.iloc[:, 0]).astype('int32')\n",
    "y = np_utils.to_categorical(y)\n",
    "y.shape"
   ]
  },
  {
   "cell_type": "code",
   "execution_count": 5,
   "metadata": {},
   "outputs": [
    {
     "data": {
      "text/plain": [
       "<matplotlib.image.AxesImage at 0x7ff3f9eccb00>"
      ]
     },
     "execution_count": 5,
     "metadata": {},
     "output_type": "execute_result"
    },
    {
     "data": {
      "image/png": "[encoded data removed]",
      "text/plain": [
       "<matplotlib.figure.Figure at 0x7ff3fa604ef0>"
      ]
     },
     "metadata": {},
     "output_type": "display_data"
    }
   ],
   "source": [
    "# example image\n",
    "plt.imshow(X[0].reshape(28, 28), cmap=plt.get_cmap('gray'))"
   ]
  },
  {
   "cell_type": "code",
   "execution_count": 6,
   "metadata": {},
   "outputs": [
    {
     "data": {
      "text/plain": [
       "((37800, 28, 28, 1), (4200, 28, 28, 1))"
      ]
     },
     "execution_count": 6,
     "metadata": {},
     "output_type": "execute_result"
    }
   ],
   "source": [
    "# train test split\n",
    "X_train, X_test, y_train, y_test = train_test_split(X, y, test_size=0.10, random_state=42)\n",
    "\n",
    "X_train.shape, X_test.shape"
   ]
  },
  {
   "cell_type": "code",
   "execution_count": 7,
   "metadata": {},
   "outputs": [
    {
     "name": "stdout",
     "output_type": "stream",
     "text": [
      "_________________________________________________________________\n",
      "Layer (type)                 Output Shape              Param #   \n",
      "=================================================================\n",
      "conv2d_1 (Conv2D)            (None, 24, 24, 16)        416       \n",
      "_________________________________________________________________\n",
      "max_pooling2d_1 (MaxPooling2 (None, 12, 12, 16)        0         \n",
      "_________________________________________________________________\n",
      "conv2d_2 (Conv2D)            (None, 8, 8, 32)          12832     \n",
      "_________________________________________________________________\n",
      "max_pooling2d_2 (MaxPooling2 (None, 4, 4, 32)          0         \n",
      "_________________________________________________________________\n",
      "flatten_1 (Flatten)          (None, 512)               0         \n",
      "_________________________________________________________________\n",
      "dense_1 (Dense)              (None, 1000)              513000    \n",
      "_________________________________________________________________\n",
      "dense_2 (Dense)              (None, 10)                10010     \n",
      "=================================================================\n",
      "Total params: 536,258\n",
      "Trainable params: 536,258\n",
      "Non-trainable params: 0\n",
      "_________________________________________________________________\n"
     ]
    }
   ],
   "source": [
    "# Building the Convnet\n",
    "\n",
    "# ** Model Start **\n",
    "model = Sequential()\n",
    "\n",
    "model.add(Conv2D(16, (5, 5), activation='relu', input_shape=(28, 28, 1)))\n",
    "model.add(MaxPooling2D(2, 2))\n",
    "\n",
    "model.add(Conv2D(32, (5, 5), activation='relu'))\n",
    "model.add(MaxPooling2D(2, 2))\n",
    "\n",
    "model.add(Flatten())\n",
    "model.add(Dense(1000, activation='relu'))\n",
    "\n",
    "model.add(Dense(10, activation='softmax'))\n",
    "# ** Model Ends **\n",
    "\n",
    "model.summary()"
   ]
  },
  {
   "cell_type": "code",
   "execution_count": 8,
   "metadata": {},
   "outputs": [],
   "source": [
    "# compile the model\n",
    "model.compile(\n",
    "            loss='categorical_crossentropy',\n",
    "            optimizer='rmsprop',\n",
    "            metrics=['accuracy'])"
   ]
  },
  {
   "cell_type": "code",
   "execution_count": 9,
   "metadata": {},
   "outputs": [],
   "source": [
    "# train image generator\n",
    "train_datagen = ImageDataGenerator(\n",
    "    rescale=1./255,\n",
    "    shear_range=0.2,\n",
    "    zoom_range=0.2,\n",
    "    horizontal_flip=True)\n",
    "\n",
    "# test image generator\n",
    "test_datagen = ImageDataGenerator(\n",
    "    rescale=1./255)"
   ]
  },
  {
   "cell_type": "code",
   "execution_count": 10,
   "metadata": {},
   "outputs": [],
   "source": [
    "# train batch\n",
    "batches = train_datagen.flow(X_train, y_train,  batch_size=64)\n",
    "\n",
    "# validation batch\n",
    "validation_batches = test_datagen.flow(X_test, y_test,  batch_size=64)"
   ]
  },
  {
   "cell_type": "code",
   "execution_count": 11,
   "metadata": {},
   "outputs": [
    {
     "name": "stdout",
     "output_type": "stream",
     "text": [
      "Epoch 1/30\n",
      "591/591 [==============================] - 44s 74ms/step - loss: 0.3543 - acc: 0.8845 - val_loss: 0.1008 - val_acc: 0.9700\n",
      "Epoch 2/30\n",
      "591/591 [==============================] - 31s 52ms/step - loss: 0.1298 - acc: 0.9583 - val_loss: 0.0624 - val_acc: 0.9814\n",
      "Epoch 3/30\n",
      "591/591 [==============================] - 31s 52ms/step - loss: 0.0992 - acc: 0.9681 - val_loss: 0.0603 - val_acc: 0.9812\n",
      "Epoch 4/30\n",
      "591/591 [==============================] - 36s 60ms/step - loss: 0.0832 - acc: 0.9735 - val_loss: 0.0558 - val_acc: 0.9838\n",
      "Epoch 5/30\n",
      "591/591 [==============================] - 38s 65ms/step - loss: 0.0750 - acc: 0.9762 - val_loss: 0.0534 - val_acc: 0.9852\n",
      "Epoch 6/30\n",
      "591/591 [==============================] - 38s 64ms/step - loss: 0.0684 - acc: 0.9781 - val_loss: 0.0540 - val_acc: 0.9831\n",
      "Epoch 7/30\n",
      "591/591 [==============================] - 38s 65ms/step - loss: 0.0618 - acc: 0.9810 - val_loss: 0.0502 - val_acc: 0.9860\n",
      "Epoch 8/30\n",
      "591/591 [==============================] - 36s 62ms/step - loss: 0.0603 - acc: 0.9809 - val_loss: 0.0472 - val_acc: 0.9848\n",
      "Epoch 9/30\n",
      "591/591 [==============================] - 36s 62ms/step - loss: 0.0589 - acc: 0.9814 - val_loss: 0.0422 - val_acc: 0.9900\n",
      "Epoch 10/30\n",
      "591/591 [==============================] - 37s 62ms/step - loss: 0.0578 - acc: 0.9817 - val_loss: 0.0531 - val_acc: 0.9850\n",
      "Epoch 11/30\n",
      "591/591 [==============================] - 36s 61ms/step - loss: 0.0538 - acc: 0.9834 - val_loss: 0.0477 - val_acc: 0.9864\n",
      "Epoch 12/30\n",
      "591/591 [==============================] - 36s 62ms/step - loss: 0.0531 - acc: 0.9836 - val_loss: 0.0566 - val_acc: 0.9833\n",
      "Epoch 13/30\n",
      "591/591 [==============================] - 37s 63ms/step - loss: 0.0520 - acc: 0.9841 - val_loss: 0.0442 - val_acc: 0.9876\n",
      "Epoch 14/30\n",
      "591/591 [==============================] - 44s 74ms/step - loss: 0.0524 - acc: 0.9830 - val_loss: 0.0414 - val_acc: 0.9900\n",
      "Epoch 15/30\n",
      "591/591 [==============================] - 42s 72ms/step - loss: 0.0538 - acc: 0.9842 - val_loss: 0.0448 - val_acc: 0.9879\n",
      "Epoch 16/30\n",
      "591/591 [==============================] - 34s 58ms/step - loss: 0.0524 - acc: 0.9833 - val_loss: 0.0495 - val_acc: 0.9871\n",
      "Epoch 17/30\n",
      "591/591 [==============================] - 36s 61ms/step - loss: 0.0510 - acc: 0.9837 - val_loss: 0.0545 - val_acc: 0.9869\n",
      "Epoch 18/30\n",
      "591/591 [==============================] - 30s 51ms/step - loss: 0.0521 - acc: 0.9839 - val_loss: 0.0417 - val_acc: 0.9874\n",
      "Epoch 19/30\n",
      "591/591 [==============================] - 30s 51ms/step - loss: 0.0522 - acc: 0.9842 - val_loss: 0.0597 - val_acc: 0.9874\n",
      "Epoch 20/30\n",
      "591/591 [==============================] - 30s 51ms/step - loss: 0.0563 - acc: 0.9831 - val_loss: 0.0616 - val_acc: 0.9850\n",
      "Epoch 21/30\n",
      "591/591 [==============================] - 30s 50ms/step - loss: 0.0554 - acc: 0.9834 - val_loss: 0.0504 - val_acc: 0.9857\n",
      "Epoch 22/30\n",
      "591/591 [==============================] - 30s 51ms/step - loss: 0.0545 - acc: 0.9843 - val_loss: 0.0531 - val_acc: 0.9867\n",
      "Epoch 23/30\n",
      "591/591 [==============================] - 30s 51ms/step - loss: 0.0545 - acc: 0.9843 - val_loss: 0.0527 - val_acc: 0.9850\n",
      "Epoch 24/30\n",
      "591/591 [==============================] - 30s 51ms/step - loss: 0.0574 - acc: 0.9840 - val_loss: 0.0469 - val_acc: 0.9871\n",
      "Epoch 25/30\n",
      "591/591 [==============================] - 30s 50ms/step - loss: 0.0580 - acc: 0.9830 - val_loss: 0.0508 - val_acc: 0.9883\n",
      "Epoch 26/30\n",
      "591/591 [==============================] - 30s 51ms/step - loss: 0.0609 - acc: 0.9823 - val_loss: 0.0513 - val_acc: 0.9862\n",
      "Epoch 27/30\n",
      "591/591 [==============================] - 30s 51ms/step - loss: 0.0604 - acc: 0.9825 - val_loss: 0.0465 - val_acc: 0.9876\n",
      "Epoch 28/30\n",
      "591/591 [==============================] - 30s 51ms/step - loss: 0.0580 - acc: 0.9825 - val_loss: 0.0471 - val_acc: 0.9879\n",
      "Epoch 29/30\n",
      "591/591 [==============================] - 30s 51ms/step - loss: 0.0596 - acc: 0.9823 - val_loss: 0.0424 - val_acc: 0.9893\n",
      "Epoch 30/30\n",
      "591/591 [==============================] - 30s 51ms/step - loss: 0.0598 - acc: 0.9826 - val_loss: 0.0551 - val_acc: 0.9833\n"
     ]
    },
    {
     "data": {
      "text/plain": [
       "<keras.callbacks.History at 0x7ff3fa5b6f60>"
      ]
     },
     "execution_count": 11,
     "metadata": {},
     "output_type": "execute_result"
    }
   ],
   "source": [
    "# train the model\n",
    "model.fit_generator(\n",
    "    batches,\n",
    "    epochs=30,\n",
    "    validation_data=validation_batches)"
   ]
  },
  {
   "cell_type": "code",
   "execution_count": 12,
   "metadata": {},
   "outputs": [],
   "source": [
    "# save the model\n",
    "model.save('mnist_convnet.h5')"
   ]
  }
 ],
 "metadata": {
  "kernelspec": {
   "display_name": "Python 3",
   "language": "python",
   "name": "python3"
  },
  "language_info": {
   "codemirror_mode": {
    "name": "ipython",
    "version": 3
   },
   "file_extension": ".py",
   "mimetype": "text/x-python",
   "name": "python",
   "nbconvert_exporter": "python",
   "pygments_lexer": "ipython3",
   "version": "3.6.3"
  }
 },
 "nbformat": 4,
 "nbformat_minor": 2
}
