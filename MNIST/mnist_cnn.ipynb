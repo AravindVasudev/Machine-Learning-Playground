{
 "cells": [
  {
   "cell_type": "code",
   "execution_count": 1,
   "metadata": {},
   "outputs": [
    {
     "name": "stderr",
     "output_type": "stream",
     "text": [
      "Using TensorFlow backend.\n"
     ]
    }
   ],
   "source": [
    "%matplotlib inline\n",
    "\n",
    "import numpy as np\n",
    "import pandas as pd\n",
    "import matplotlib.pyplot as plt\n",
    "\n",
    "from sklearn.model_selection import train_test_split\n",
    "\n",
    "from keras.models import Sequential\n",
    "from keras.layers import Dense, Flatten, Conv2D, MaxPooling2D\n",
    "from keras.preprocessing.image import ImageDataGenerator\n",
    "from keras.utils import np_utils"
   ]
  },
  {
   "cell_type": "code",
   "execution_count": 2,
   "metadata": {},
   "outputs": [
    {
     "data": {
      "text/html": [
       "<div>\n",
       "<style>\n",
       "    .dataframe thead tr:only-child th {\n",
       "        text-align: right;\n",
       "    }\n",
       "\n",
       "    .dataframe thead th {\n",
       "        text-align: left;\n",
       "    }\n",
       "\n",
       "    .dataframe tbody tr th {\n",
       "        vertical-align: top;\n",
       "    }\n",
       "</style>\n",
       "<table border=\"1\" class=\"dataframe\">\n",
       "  <thead>\n",
       "    <tr style=\"text-align: right;\">\n",
       "      <th></th>\n",
       "      <th>label</th>\n",
       "      <th>pixel0</th>\n",
       "      <th>pixel1</th>\n",
       "      <th>pixel2</th>\n",
       "      <th>pixel3</th>\n",
       "      <th>pixel4</th>\n",
       "      <th>pixel5</th>\n",
       "      <th>pixel6</th>\n",
       "      <th>pixel7</th>\n",
       "      <th>pixel8</th>\n",
       "      <th>...</th>\n",
       "      <th>pixel774</th>\n",
       "      <th>pixel775</th>\n",
       "      <th>pixel776</th>\n",
       "      <th>pixel777</th>\n",
       "      <th>pixel778</th>\n",
       "      <th>pixel779</th>\n",
       "      <th>pixel780</th>\n",
       "      <th>pixel781</th>\n",
       "      <th>pixel782</th>\n",
       "      <th>pixel783</th>\n",
       "    </tr>\n",
       "  </thead>\n",
       "  <tbody>\n",
       "    <tr>\n",
       "      <th>0</th>\n",
       "      <td>1</td>\n",
       "      <td>0</td>\n",
       "      <td>0</td>\n",
       "      <td>0</td>\n",
       "      <td>0</td>\n",
       "      <td>0</td>\n",
       "      <td>0</td>\n",
       "      <td>0</td>\n",
       "      <td>0</td>\n",
       "      <td>0</td>\n",
       "      <td>...</td>\n",
       "      <td>0</td>\n",
       "      <td>0</td>\n",
       "      <td>0</td>\n",
       "      <td>0</td>\n",
       "      <td>0</td>\n",
       "      <td>0</td>\n",
       "      <td>0</td>\n",
       "      <td>0</td>\n",
       "      <td>0</td>\n",
       "      <td>0</td>\n",
       "    </tr>\n",
       "    <tr>\n",
       "      <th>1</th>\n",
       "      <td>0</td>\n",
       "      <td>0</td>\n",
       "      <td>0</td>\n",
       "      <td>0</td>\n",
       "      <td>0</td>\n",
       "      <td>0</td>\n",
       "      <td>0</td>\n",
       "      <td>0</td>\n",
       "      <td>0</td>\n",
       "      <td>0</td>\n",
       "      <td>...</td>\n",
       "      <td>0</td>\n",
       "      <td>0</td>\n",
       "      <td>0</td>\n",
       "      <td>0</td>\n",
       "      <td>0</td>\n",
       "      <td>0</td>\n",
       "      <td>0</td>\n",
       "      <td>0</td>\n",
       "      <td>0</td>\n",
       "      <td>0</td>\n",
       "    </tr>\n",
       "    <tr>\n",
       "      <th>2</th>\n",
       "      <td>1</td>\n",
       "      <td>0</td>\n",
       "      <td>0</td>\n",
       "      <td>0</td>\n",
       "      <td>0</td>\n",
       "      <td>0</td>\n",
       "      <td>0</td>\n",
       "      <td>0</td>\n",
       "      <td>0</td>\n",
       "      <td>0</td>\n",
       "      <td>...</td>\n",
       "      <td>0</td>\n",
       "      <td>0</td>\n",
       "      <td>0</td>\n",
       "      <td>0</td>\n",
       "      <td>0</td>\n",
       "      <td>0</td>\n",
       "      <td>0</td>\n",
       "      <td>0</td>\n",
       "      <td>0</td>\n",
       "      <td>0</td>\n",
       "    </tr>\n",
       "    <tr>\n",
       "      <th>3</th>\n",
       "      <td>4</td>\n",
       "      <td>0</td>\n",
       "      <td>0</td>\n",
       "      <td>0</td>\n",
       "      <td>0</td>\n",
       "      <td>0</td>\n",
       "      <td>0</td>\n",
       "      <td>0</td>\n",
       "      <td>0</td>\n",
       "      <td>0</td>\n",
       "      <td>...</td>\n",
       "      <td>0</td>\n",
       "      <td>0</td>\n",
       "      <td>0</td>\n",
       "      <td>0</td>\n",
       "      <td>0</td>\n",
       "      <td>0</td>\n",
       "      <td>0</td>\n",
       "      <td>0</td>\n",
       "      <td>0</td>\n",
       "      <td>0</td>\n",
       "    </tr>\n",
       "    <tr>\n",
       "      <th>4</th>\n",
       "      <td>0</td>\n",
       "      <td>0</td>\n",
       "      <td>0</td>\n",
       "      <td>0</td>\n",
       "      <td>0</td>\n",
       "      <td>0</td>\n",
       "      <td>0</td>\n",
       "      <td>0</td>\n",
       "      <td>0</td>\n",
       "      <td>0</td>\n",
       "      <td>...</td>\n",
       "      <td>0</td>\n",
       "      <td>0</td>\n",
       "      <td>0</td>\n",
       "      <td>0</td>\n",
       "      <td>0</td>\n",
       "      <td>0</td>\n",
       "      <td>0</td>\n",
       "      <td>0</td>\n",
       "      <td>0</td>\n",
       "      <td>0</td>\n",
       "    </tr>\n",
       "  </tbody>\n",
       "</table>\n",
       "<p>5 rows × 785 columns</p>\n",
       "</div>"
      ],
      "text/plain": [
       "   label  pixel0  pixel1  pixel2  pixel3  pixel4  pixel5  pixel6  pixel7  \\\n",
       "0      1       0       0       0       0       0       0       0       0   \n",
       "1      0       0       0       0       0       0       0       0       0   \n",
       "2      1       0       0       0       0       0       0       0       0   \n",
       "3      4       0       0       0       0       0       0       0       0   \n",
       "4      0       0       0       0       0       0       0       0       0   \n",
       "\n",
       "   pixel8    ...     pixel774  pixel775  pixel776  pixel777  pixel778  \\\n",
       "0       0    ...            0         0         0         0         0   \n",
       "1       0    ...            0         0         0         0         0   \n",
       "2       0    ...            0         0         0         0         0   \n",
       "3       0    ...            0         0         0         0         0   \n",
       "4       0    ...            0         0         0         0         0   \n",
       "\n",
       "   pixel779  pixel780  pixel781  pixel782  pixel783  \n",
       "0         0         0         0         0         0  \n",
       "1         0         0         0         0         0  \n",
       "2         0         0         0         0         0  \n",
       "3         0         0         0         0         0  \n",
       "4         0         0         0         0         0  \n",
       "\n",
       "[5 rows x 785 columns]"
      ]
     },
     "execution_count": 2,
     "metadata": {},
     "output_type": "execute_result"
    }
   ],
   "source": [
    "# import dataset\n",
    "dataset = pd.read_csv('./data/train.csv')\n",
    "\n",
    "dataset.head()"
   ]
  },
  {
   "cell_type": "code",
   "execution_count": 3,
   "metadata": {},
   "outputs": [
    {
     "data": {
      "text/plain": [
       "(42000, 28, 28, 1)"
      ]
     },
     "execution_count": 3,
     "metadata": {},
     "output_type": "execute_result"
    }
   ],
   "source": [
    "# get features into X\n",
    "X = (dataset.iloc[:, 1:]).astype('float32')\n",
    "X = X.values.reshape(X.shape[0], 28, 28, 1)\n",
    "X.shape"
   ]
  },
  {
   "cell_type": "code",
   "execution_count": 4,
   "metadata": {},
   "outputs": [
    {
     "data": {
      "text/plain": [
       "(42000, 10)"
      ]
     },
     "execution_count": 4,
     "metadata": {},
     "output_type": "execute_result"
    }
   ],
   "source": [
    "# get labels into y\n",
    "y = (dataset.iloc[:, 0]).astype('int32')\n",
    "y = np_utils.to_categorical(y)\n",
    "y.shape"
   ]
  },
  {
   "cell_type": "code",
   "execution_count": 5,
   "metadata": {},
   "outputs": [
    {
     "data": {
      "text/plain": [
       "<matplotlib.image.AxesImage at 0x7f21ed3b2cc0>"
      ]
     },
     "execution_count": 5,
     "metadata": {},
     "output_type": "execute_result"
    },
    {
     "data": {
      "image/png": "[encoded data removed]",
      "text/plain": [
       "<matplotlib.figure.Figure at 0x7f21ebcfde10>"
      ]
     },
     "metadata": {},
     "output_type": "display_data"
    }
   ],
   "source": [
    "# example image\n",
    "plt.imshow(X[0].reshape(28, 28), cmap=plt.get_cmap('gray'))"
   ]
  },
  {
   "cell_type": "code",
   "execution_count": 6,
   "metadata": {},
   "outputs": [
    {
     "data": {
      "text/plain": [
       "((37800, 28, 28, 1), (4200, 28, 28, 1))"
      ]
     },
     "execution_count": 6,
     "metadata": {},
     "output_type": "execute_result"
    }
   ],
   "source": [
    "# train test split\n",
    "X_train, X_test, y_train, y_test = train_test_split(X, y, test_size=0.10, random_state=42)\n",
    "\n",
    "X_train.shape, X_test.shape"
   ]
  },
  {
   "cell_type": "code",
   "execution_count": 7,
   "metadata": {},
   "outputs": [
    {
     "name": "stdout",
     "output_type": "stream",
     "text": [
      "_________________________________________________________________\n",
      "Layer (type)                 Output Shape              Param #   \n",
      "=================================================================\n",
      "conv2d_1 (Conv2D)            (None, 24, 24, 16)        416       \n",
      "_________________________________________________________________\n",
      "max_pooling2d_1 (MaxPooling2 (None, 12, 12, 16)        0         \n",
      "_________________________________________________________________\n",
      "conv2d_2 (Conv2D)            (None, 8, 8, 32)          12832     \n",
      "_________________________________________________________________\n",
      "max_pooling2d_2 (MaxPooling2 (None, 4, 4, 32)          0         \n",
      "_________________________________________________________________\n",
      "flatten_1 (Flatten)          (None, 512)               0         \n",
      "_________________________________________________________________\n",
      "dense_1 (Dense)              (None, 1000)              513000    \n",
      "_________________________________________________________________\n",
      "dense_2 (Dense)              (None, 10)                10010     \n",
      "=================================================================\n",
      "Total params: 536,258\n",
      "Trainable params: 536,258\n",
      "Non-trainable params: 0\n",
      "_________________________________________________________________\n"
     ]
    }
   ],
   "source": [
    "# Building the Convnet\n",
    "\n",
    "# ** Model Start **\n",
    "model = Sequential()\n",
    "\n",
    "model.add(Conv2D(16, (5, 5), activation='relu', input_shape=(28, 28, 1)))\n",
    "model.add(MaxPooling2D(2, 2))\n",
    "\n",
    "model.add(Conv2D(32, (5, 5), activation='relu'))\n",
    "model.add(MaxPooling2D(2, 2))\n",
    "\n",
    "model.add(Flatten())\n",
    "model.add(Dense(1000, activation='relu'))\n",
    "\n",
    "model.add(Dense(10, activation='softmax'))\n",
    "# ** Model Ends **\n",
    "\n",
    "model.summary()"
   ]
  },
  {
   "cell_type": "code",
   "execution_count": 8,
   "metadata": {
    "collapsed": true
   },
   "outputs": [],
   "source": [
    "# compile the model\n",
    "model.compile(\n",
    "            loss='categorical_crossentropy',\n",
    "            optimizer='rmsprop',\n",
    "            metrics=['accuracy'])"
   ]
  },
  {
   "cell_type": "code",
   "execution_count": 9,
   "metadata": {
    "collapsed": true
   },
   "outputs": [],
   "source": [
    "# train image generator\n",
    "train_datagen = ImageDataGenerator(\n",
    "    rescale=1./255,\n",
    "    shear_range=0.2,\n",
    "    zoom_range=0.2,\n",
    "    horizontal_flip=True)\n",
    "\n",
    "# test image generator\n",
    "test_datagen = ImageDataGenerator(\n",
    "    rescale=1./255)"
   ]
  },
  {
   "cell_type": "code",
   "execution_count": 10,
   "metadata": {
    "collapsed": true
   },
   "outputs": [],
   "source": [
    "# train batch\n",
    "batches = train_datagen.flow(X_train, y_train,  batch_size=64)\n",
    "\n",
    "# validation batch\n",
    "validation_batches = test_datagen.flow(X_test, y_test,  batch_size=64)"
   ]
  },
  {
   "cell_type": "code",
   "execution_count": 11,
   "metadata": {},
   "outputs": [
    {
     "name": "stdout",
     "output_type": "stream",
     "text": [
      "Epoch 1/30\n",
      "591/591 [==============================] - 34s 57ms/step - loss: 0.3996 - acc: 0.8709 - val_loss: 0.1375 - val_acc: 0.9567\n",
      "Epoch 2/30\n",
      "591/591 [==============================] - 25s 43ms/step - loss: 0.1574 - acc: 0.9513 - val_loss: 0.0868 - val_acc: 0.9714\n",
      "Epoch 3/30\n",
      "591/591 [==============================] - 26s 44ms/step - loss: 0.1223 - acc: 0.9627 - val_loss: 0.0767 - val_acc: 0.9748\n",
      "Epoch 4/30\n",
      "591/591 [==============================] - 25s 42ms/step - loss: 0.1062 - acc: 0.9685 - val_loss: 0.0614 - val_acc: 0.9829\n",
      "Epoch 5/30\n",
      "591/591 [==============================] - 25s 42ms/step - loss: 0.0987 - acc: 0.9710 - val_loss: 0.0749 - val_acc: 0.9783\n",
      "Epoch 6/30\n",
      "591/591 [==============================] - 25s 43ms/step - loss: 0.0906 - acc: 0.9733 - val_loss: 0.0655 - val_acc: 0.9800\n",
      "Epoch 7/30\n",
      "591/591 [==============================] - 25s 42ms/step - loss: 0.0882 - acc: 0.9753 - val_loss: 0.0543 - val_acc: 0.9850\n",
      "Epoch 8/30\n",
      "591/591 [==============================] - 26s 44ms/step - loss: 0.0871 - acc: 0.9751 - val_loss: 0.0558 - val_acc: 0.9855\n",
      "Epoch 9/30\n",
      "591/591 [==============================] - 25s 43ms/step - loss: 0.0860 - acc: 0.9762 - val_loss: 0.0594 - val_acc: 0.9852\n",
      "Epoch 10/30\n",
      "591/591 [==============================] - 26s 43ms/step - loss: 0.0868 - acc: 0.9761 - val_loss: 0.0729 - val_acc: 0.9810\n",
      "Epoch 11/30\n",
      "591/591 [==============================] - 26s 44ms/step - loss: 0.0893 - acc: 0.9747 - val_loss: 0.0633 - val_acc: 0.9845\n",
      "Epoch 12/30\n",
      "591/591 [==============================] - 26s 44ms/step - loss: 0.0951 - acc: 0.9743 - val_loss: 0.0598 - val_acc: 0.9855\n",
      "Epoch 13/30\n",
      "591/591 [==============================] - 27s 45ms/step - loss: 0.0980 - acc: 0.9751 - val_loss: 0.0664 - val_acc: 0.9860\n",
      "Epoch 14/30\n",
      "591/591 [==============================] - 25s 43ms/step - loss: 0.1016 - acc: 0.9749 - val_loss: 0.0783 - val_acc: 0.9810\n",
      "Epoch 15/30\n",
      "591/591 [==============================] - 26s 45ms/step - loss: 0.1052 - acc: 0.9729 - val_loss: 0.0647 - val_acc: 0.9852\n",
      "Epoch 16/30\n",
      "591/591 [==============================] - 26s 44ms/step - loss: 0.1066 - acc: 0.9743 - val_loss: 0.1088 - val_acc: 0.9745\n",
      "Epoch 17/30\n",
      "591/591 [==============================] - 25s 43ms/step - loss: 0.1042 - acc: 0.9748 - val_loss: 0.0791 - val_acc: 0.9793\n",
      "Epoch 18/30\n",
      "591/591 [==============================] - 27s 45ms/step - loss: 0.1039 - acc: 0.9746 - val_loss: 0.1245 - val_acc: 0.9726\n",
      "Epoch 19/30\n",
      "591/591 [==============================] - 26s 45ms/step - loss: 0.1091 - acc: 0.9746 - val_loss: 0.0851 - val_acc: 0.9840\n",
      "Epoch 20/30\n",
      "591/591 [==============================] - 27s 45ms/step - loss: 0.1097 - acc: 0.9749 - val_loss: 0.1393 - val_acc: 0.9619\n",
      "Epoch 21/30\n",
      "591/591 [==============================] - 26s 45ms/step - loss: 0.1059 - acc: 0.9743 - val_loss: 0.1525 - val_acc: 0.9743\n",
      "Epoch 22/30\n",
      "591/591 [==============================] - 25s 43ms/step - loss: 0.1129 - acc: 0.9734 - val_loss: 0.1248 - val_acc: 0.9802\n",
      "Epoch 23/30\n",
      "591/591 [==============================] - 31s 52ms/step - loss: 0.1129 - acc: 0.9731 - val_loss: 0.0784 - val_acc: 0.9821\n",
      "Epoch 24/30\n",
      "591/591 [==============================] - 28s 47ms/step - loss: 0.1180 - acc: 0.9740 - val_loss: 0.0805 - val_acc: 0.9836\n",
      "Epoch 25/30\n",
      "591/591 [==============================] - 29s 49ms/step - loss: 0.1179 - acc: 0.9740 - val_loss: 0.1058 - val_acc: 0.9738\n",
      "Epoch 26/30\n",
      "591/591 [==============================] - 29s 49ms/step - loss: 0.1170 - acc: 0.9741 - val_loss: 0.1203 - val_acc: 0.9745\n",
      "Epoch 27/30\n",
      "591/591 [==============================] - 30s 51ms/step - loss: 0.1171 - acc: 0.9735 - val_loss: 0.0781 - val_acc: 0.9826\n",
      "Epoch 28/30\n",
      "591/591 [==============================] - 29s 48ms/step - loss: 0.1110 - acc: 0.9742 - val_loss: 0.1024 - val_acc: 0.9802\n",
      "Epoch 29/30\n",
      "591/591 [==============================] - 30s 51ms/step - loss: 0.1245 - acc: 0.9741 - val_loss: 0.0659 - val_acc: 0.9876\n",
      "Epoch 30/30\n",
      "591/591 [==============================] - 29s 50ms/step - loss: 0.1260 - acc: 0.9742 - val_loss: 0.0918 - val_acc: 0.9767\n"
     ]
    },
    {
     "data": {
      "text/plain": [
       "<keras.callbacks.History at 0x7f21ed50b710>"
      ]
     },
     "execution_count": 11,
     "metadata": {},
     "output_type": "execute_result"
    }
   ],
   "source": [
    "# train the model\n",
    "model.fit_generator(\n",
    "    batches,\n",
    "    epochs=30,\n",
    "    validation_data=validation_batches)"
   ]
  },
  {
   "cell_type": "code",
   "execution_count": 12,
   "metadata": {
    "collapsed": true
   },
   "outputs": [],
   "source": [
    "# save the model\n",
    "model.save('mnist_convnet.h5')"
   ]
  }
 ],
 "metadata": {
  "kernelspec": {
   "display_name": "Python 3",
   "language": "python",
   "name": "python3"
  },
  "language_info": {
   "codemirror_mode": {
    "name": "ipython",
    "version": 3
   },
   "file_extension": ".py",
   "mimetype": "text/x-python",
   "name": "python",
   "nbconvert_exporter": "python",
   "pygments_lexer": "ipython3",
   "version": "3.6.2"
  }
 },
 "nbformat": 4,
 "nbformat_minor": 2
}
